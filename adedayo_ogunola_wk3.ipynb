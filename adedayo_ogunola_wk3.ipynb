{
 "cells": [
  {
   "cell_type": "code",
   "execution_count": 112,
   "metadata": {},
   "outputs": [],
   "source": [
    "#This assignment shows more on Data cleaning and Matplotlib"
   ]
  },
  {
   "cell_type": "code",
   "execution_count": 113,
   "metadata": {
    "scrolled": false
   },
   "outputs": [
    {
     "name": "stdout",
     "output_type": "stream",
     "text": [
      "          fighter_name  Height    Weight Reach    Stance           DOB\n",
      "0           AJ Fonseca   5' 4\"  145 lbs.   NaN       NaN           NaN\n",
      "1          AJ Matthews  5' 11\"  185 lbs.   NaN       NaN           NaN\n",
      "2             AJ McKee  5' 10\"  145 lbs.   NaN       NaN           NaN\n",
      "3            AJ Siscoe   5' 7\"  135 lbs.   NaN       NaN           NaN\n",
      "4           Aalon Cruz   6' 0\"  145 lbs.   NaN       NaN           NaN\n",
      "...                ...     ...       ...   ...       ...           ...\n",
      "3308     Zelim Imadaev   6' 0\"  170 lbs.   76\"  Orthodox  Jan 25, 1995\n",
      "3309      Zhang Lipeng  5' 11\"  155 lbs.   71\"  Southpaw  Mar 10, 1990\n",
      "3310     Zoila Frausto   5' 4\"  135 lbs.   NaN  Orthodox           NaN\n",
      "3311        Zu Anyanwu   6' 1\"  251 lbs.   77\"  Orthodox  Aug 05, 1981\n",
      "3312  Zubaira Tukhugov   5' 8\"  145 lbs.   68\"  Orthodox  Jan 15, 1991\n",
      "\n",
      "[3313 rows x 6 columns]\n"
     ]
    }
   ],
   "source": [
    "#This first cell will deal with importation of the file alone\n",
    "import numpy as np\n",
    "import pandas as pd\n",
    "week3 = pd.read_csv(r'D:\\Surface me\\ADEDAYO\\DY\\Git_project\\week3\\raw_fighter_details.csv')\n",
    "print(week3)"
   ]
  },
  {
   "cell_type": "code",
   "execution_count": 114,
   "metadata": {
    "scrolled": true
   },
   "outputs": [
    {
     "name": "stdout",
     "output_type": "stream",
     "text": [
      "              fighter_name  Height    Weight Reach    Stance           DOB\n",
      "10          Aaron Phillips   5' 9\"  135 lbs.   70\"  Southpaw  Aug 05, 1989\n",
      "11             Aaron Riley   5' 8\"  155 lbs.   69\"  Southpaw  Dec 09, 1980\n",
      "12              Aaron Rosa   6' 4\"  205 lbs.   78\"  Orthodox  May 28, 1983\n",
      "13           Aaron Simpson   6' 0\"  170 lbs.   73\"  Orthodox  Jul 20, 1974\n",
      "17    Abdul Razak Alhassan  5' 10\"  170 lbs.   73\"  Orthodox  Aug 11, 1985\n",
      "...                    ...     ...       ...   ...       ...           ...\n",
      "3304             Zak Ottow  5' 11\"  170 lbs.   72\"  Orthodox  Dec 22, 1986\n",
      "3308         Zelim Imadaev   6' 0\"  170 lbs.   76\"  Orthodox  Jan 25, 1995\n",
      "3309          Zhang Lipeng  5' 11\"  155 lbs.   71\"  Southpaw  Mar 10, 1990\n",
      "3311            Zu Anyanwu   6' 1\"  251 lbs.   77\"  Orthodox  Aug 05, 1981\n",
      "3312      Zubaira Tukhugov   5' 8\"  145 lbs.   68\"  Orthodox  Jan 15, 1991\n",
      "\n",
      "[1485 rows x 6 columns]\n"
     ]
    }
   ],
   "source": [
    "#Data cleaning start from here\n",
    "#Let me first drop the NaN.I'm going to do this on the entire dataset\n",
    "nan_drop=week3.dropna()\n",
    "print(nan_drop)"
   ]
  },
  {
   "cell_type": "code",
   "execution_count": 115,
   "metadata": {},
   "outputs": [
    {
     "name": "stdout",
     "output_type": "stream",
     "text": [
      "                      Height    Weight Reach    Stance           DOB\n",
      "fighter_name                                                        \n",
      "Aaron Phillips         5' 9\"  135 lbs.   70\"  Southpaw  Aug 05, 1989\n",
      "Aaron Riley            5' 8\"  155 lbs.   69\"  Southpaw  Dec 09, 1980\n",
      "Aaron Rosa             6' 4\"  205 lbs.   78\"  Orthodox  May 28, 1983\n",
      "Aaron Simpson          6' 0\"  170 lbs.   73\"  Orthodox  Jul 20, 1974\n",
      "Abdul Razak Alhassan  5' 10\"  170 lbs.   73\"  Orthodox  Aug 11, 1985\n",
      "...                      ...       ...   ...       ...           ...\n",
      "Zak Ottow             5' 11\"  170 lbs.   72\"  Orthodox  Dec 22, 1986\n",
      "Zelim Imadaev          6' 0\"  170 lbs.   76\"  Orthodox  Jan 25, 1995\n",
      "Zhang Lipeng          5' 11\"  155 lbs.   71\"  Southpaw  Mar 10, 1990\n",
      "Zu Anyanwu             6' 1\"  251 lbs.   77\"  Orthodox  Aug 05, 1981\n",
      "Zubaira Tukhugov       5' 8\"  145 lbs.   68\"  Orthodox  Jan 15, 1991\n",
      "\n",
      "[1485 rows x 5 columns]\n"
     ]
    }
   ],
   "source": [
    "#Let me first change the index of my dataframe\n",
    "#I want to use \"fighter_name\" as my index, thereby create a new dataframe\n",
    "#to do the above, check whether the column you want to set as index is unique or not by typing next line below\n",
    "#week3['fighter_name'].is_unique; This gives True. You can set it as index now!\n",
    "my_useful = pd.DataFrame(nan_drop.set_index('fighter_name'))\n",
    "print(my_useful)\n",
    "#now I get a new dataframe called my_useful"
   ]
  },
  {
   "cell_type": "code",
   "execution_count": 116,
   "metadata": {
    "scrolled": true
   },
   "outputs": [
    {
     "name": "stdout",
     "output_type": "stream",
     "text": [
      "                      0\n",
      "fighter_name           \n",
      "Brandon Thatch      170\n",
      "Colby Covington     170\n",
      "Christian Wellisch  234\n",
      "Charles McCarthy    185\n",
      "Cyril Asker         247\n",
      "Shane Burgos        145\n",
      "Chico Camus         125\n",
      "Chris Lytle         170\n",
      "Curtis Millender    170\n",
      "Julie Kedzie        135\n",
      "Katsunori Kikuno    145\n",
      "Tony Ferguson       155\n",
      "Igor Araujo         170\n",
      "Duda Santana        145\n",
      "Byron Bloodworth    135\n",
      "Trevor Smith        185\n",
      "Spencer Fisher      155\n",
      "Kyung Ho Kang       135\n",
      "Blas Avena          170\n",
      "Jorge Santiago      170\n"
     ]
    }
   ],
   "source": [
    "#Now let me begin to clean the data\n",
    "#I'm going to clean column \"Weight\" and \"Reach\"\n",
    "#Firstly, Weight\n",
    "weight=my_useful['Weight'].str.extract(r'^(\\d{3})', expand=True)\n",
    "print(weight.sample(20))"
   ]
  },
  {
   "cell_type": "code",
   "execution_count": 129,
   "metadata": {},
   "outputs": [
    {
     "name": "stdout",
     "output_type": "stream",
     "text": [
      "<class 'pandas.core.frame.DataFrame'>\n",
      "<class 'pandas.core.frame.DataFrame'>\n",
      "                     0\n",
      "fighter_name          \n",
      "Paige VanZant       65\n",
      "Joanna Jedrzejczyk  65\n",
      "Davi Ramos          70\n",
      "Alex Caceres        73\n",
      "Taylor Lapilus      73\n",
      "Kenny Florian       74\n",
      "Damian Grabowski    75\n",
      "Sean McCorkle       81\n",
      "Teemu Packalen      72\n",
      "Carlos Candelario   67\n",
      "Paul Taylor         72\n",
      "Luis Gomez          68\n",
      "Craig White         76\n",
      "Dominic Waters      79\n",
      "David Zawada        75\n",
      "Henry Cejudo        64\n",
      "Devin Powell        73\n",
      "Curtis Millender    76\n",
      "Felipe Silva        77\n",
      "Henry Martinez      68\n"
     ]
    }
   ],
   "source": [
    "#secondly, Reach\n",
    "reach = my_useful['Reach'].str.extract(r'^(\\d{2})', expand=True)\n",
    "print(reach.sample(20))"
   ]
  },
  {
   "cell_type": "code",
   "execution_count": 118,
   "metadata": {},
   "outputs": [
    {
     "name": "stdout",
     "output_type": "stream",
     "text": [
      "                      Height Weight Reach    Stance           DOB\n",
      "fighter_name                                                     \n",
      "Aaron Phillips         5' 9\"    135    70  Southpaw  Aug 05, 1989\n",
      "Aaron Riley            5' 8\"    155    69  Southpaw  Dec 09, 1980\n",
      "Aaron Rosa             6' 4\"    205    78  Orthodox  May 28, 1983\n",
      "Aaron Simpson          6' 0\"    170    73  Orthodox  Jul 20, 1974\n",
      "Abdul Razak Alhassan  5' 10\"    170    73  Orthodox  Aug 11, 1985\n",
      "...                      ...    ...   ...       ...           ...\n",
      "Zak Ottow             5' 11\"    170    72  Orthodox  Dec 22, 1986\n",
      "Zelim Imadaev          6' 0\"    170    76  Orthodox  Jan 25, 1995\n",
      "Zhang Lipeng          5' 11\"    155    71  Southpaw  Mar 10, 1990\n",
      "Zu Anyanwu             6' 1\"    251    77  Orthodox  Aug 05, 1981\n",
      "Zubaira Tukhugov       5' 8\"    145    68  Orthodox  Jan 15, 1991\n",
      "\n",
      "[1485 rows x 5 columns]\n"
     ]
    }
   ],
   "source": [
    "#Permit me to use this local and unprofessional codes to replace 'weight' and 'reach' in my_useful\n",
    "#I want to form a new dataframe from which I'm going to plot gragp/chart required\n",
    "my_useful['Reach'] = reach[0]\n",
    "my_useful['Weight'] = weight[0]\n",
    "for_plot = pd.DataFrame(my_useful)\n",
    "print(for_plot)"
   ]
  },
  {
   "cell_type": "code",
   "execution_count": 119,
   "metadata": {},
   "outputs": [
    {
     "data": {
      "image/png": "[encoded data removed]",
      "text/plain": [
       "<Figure size 432x288 with 1 Axes>"
      ]
     },
     "metadata": {
      "needs_background": "light"
     },
     "output_type": "display_data"
    }
   ],
   "source": [
    "#now that the dataframe has been cleaned to this level, we can derive some values from it\n",
    "#I start with bar chart. fighter_name against Reach\n",
    "import matplotlib as mpl\n",
    "import matplotlib.pyplot as plt\n",
    "#I'm goint to use Stance data\n",
    "for_plot['Stance'].value_counts().plot(kind='bar', x='Stance', color='violet')\n",
    "plt.xlabel('Stance')\n",
    "plt.title('Number of each stance in the dataset')\n",
    "plt.show()"
   ]
  },
  {
   "cell_type": "code",
   "execution_count": 120,
   "metadata": {
    "scrolled": false
   },
   "outputs": [
    {
     "name": "stdout",
     "output_type": "stream",
     "text": [
      "Orthodox       1143\n",
      "Southpaw        275\n",
      "Switch           65\n",
      "Open Stance       2\n",
      "Name: Stance, dtype: int64\n"
     ]
    },
    {
     "data": {
      "image/png": "[encoded data removed]",
      "text/plain": [
       "<Figure size 432x288 with 1 Axes>"
      ]
     },
     "metadata": {
      "needs_background": "light"
     },
     "output_type": "display_data"
    }
   ],
   "source": [
    "#Histogram use the same data\n",
    "for_plot['Stance'].value_counts().plot(kind='hist', x='Stance', color='blue')\n",
    "plt.title('Number of each stance in the dataset')\n",
    "print(for_plot['Stance'].value_counts())\n",
    "plt.show()"
   ]
  },
  {
   "cell_type": "code",
   "execution_count": 121,
   "metadata": {},
   "outputs": [
    {
     "name": "stdout",
     "output_type": "stream",
     "text": [
      "Orthodox       1143\n",
      "Southpaw        275\n",
      "Switch           65\n",
      "Open Stance       2\n",
      "Name: Stance, dtype: int64\n"
     ]
    },
    {
     "data": {
      "image/png": "[encoded data removed]",
      "text/plain": [
       "<Figure size 504x504 with 1 Axes>"
      ]
     },
     "metadata": {},
     "output_type": "display_data"
    }
   ],
   "source": [
    "#represent the same thing with pie chart\n",
    "for_plot['Stance'].value_counts().plot(kind='pie', figsize=(7,7))\n",
    "plt.title('Number of each stance in the dataset')\n",
    "print(for_plot['Stance'].value_counts())\n",
    "plt.legend()\n",
    "plt.show()"
   ]
  },
  {
   "cell_type": "code",
   "execution_count": 130,
   "metadata": {},
   "outputs": [
    {
     "name": "stdout",
     "output_type": "stream",
     "text": [
      "Orthodox       1143\n",
      "Southpaw        275\n",
      "Switch           65\n",
      "Open Stance       2\n",
      "Name: Stance, dtype: int64\n"
     ]
    },
    {
     "data": {
      "image/png": "[encoded data removed]",
      "text/plain": [
       "<Figure size 504x504 with 1 Axes>"
      ]
     },
     "metadata": {
      "needs_background": "light"
     },
     "output_type": "display_data"
    }
   ],
   "source": [
    "#Same data for lineplot\n",
    "for_plot['Stance'].value_counts().plot(kind='line', figsize=(7,7))\n",
    "print(for_plot['Stance'].value_counts())\n",
    "plt.legend()\n",
    "plt.show()"
   ]
  },
  {
   "cell_type": "code",
   "execution_count": null,
   "metadata": {},
   "outputs": [],
   "source": []
  }
 ],
 "metadata": {
  "kernelspec": {
   "display_name": "Python 3",
   "language": "python",
   "name": "python3"
  },
  "language_info": {
   "codemirror_mode": {
    "name": "ipython",
    "version": 3
   },
   "file_extension": ".py",
   "mimetype": "text/x-python",
   "name": "python",
   "nbconvert_exporter": "python",
   "pygments_lexer": "ipython3",
   "version": "3.7.4"
  }
 },
 "nbformat": 4,
 "nbformat_minor": 2
}
